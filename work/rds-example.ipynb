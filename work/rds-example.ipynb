{
 "cells": [
  {
   "cell_type": "code",
   "execution_count": 1,
   "metadata": {},
   "outputs": [],
   "source": [
    "import pymysql\n",
    "\n",
    "#登入資料庫\n",
    "db = pymysql.connect(host='cc104.rds.local', port=3306, user='root', passwd='p@ssw0rd', db='', charset='utf8')"
   ]
  },
  {
   "cell_type": "code",
   "execution_count": 2,
   "metadata": {},
   "outputs": [
    {
     "name": "stdout",
     "output_type": "stream",
     "text": [
      "Database version : 10.3.12-MariaDB-1:10.3.12+maria~bionic \n"
     ]
    }
   ],
   "source": [
    "# 使用 cursor() 方法創建一個游標對象 cursor\n",
    "cursor = db.cursor()\n",
    "\n",
    "# 使用 execute()  方法執行 SQL 查詢\n",
    "cursor.execute(\"SELECT VERSION()\")\n",
    "\n",
    "\n",
    "# 使用 fetchone() 方法取得第一條紀錄.\n",
    "data = cursor.fetchone()\n",
    "\n",
    "#顯示版本\n",
    "print (\"Database version : %s \" % data)"
   ]
  },
  {
   "cell_type": "code",
   "execution_count": 3,
   "metadata": {},
   "outputs": [
    {
     "name": "stdout",
     "output_type": "stream",
     "text": [
      "('information_schema',)\n",
      "('mission10',)\n",
      "('mysql',)\n",
      "('performance_schema',)\n"
     ]
    },
    {
     "name": "stderr",
     "output_type": "stream",
     "text": [
      "/opt/conda/lib/python3.7/site-packages/pymysql/cursors.py:170: Warning: (1008, \"Can't drop database 'mission10'; database doesn't exist\")\n",
      "  result = self._query(query)\n"
     ]
    }
   ],
   "source": [
    "#若mission10資料庫存在就刪除\n",
    "cursor.execute(\"drop database if exists mission10\")\n",
    "#建立mission10資料庫\n",
    "cursor.execute(\"CREATE DATABASE mission10\")\n",
    "\n",
    "cursor.execute(\"SHOW DATABASES\")\n",
    "\n",
    "#顯示資料庫\n",
    "for x in cursor:\n",
    "  print(x)"
   ]
  },
  {
   "cell_type": "code",
   "execution_count": null,
   "metadata": {},
   "outputs": [],
   "source": [
    "\"\"\"\n",
    "CREATE TABLE table_name (\n",
    "  column_name1 data_type,\n",
    "  column_name2 data_type,\n",
    "  column_name3 data_type,\n",
    "  ···\n",
    ");\n",
    "\n",
    "char (M) 必須指定欄位大小，資料不足時以空白字元填滿\n",
    "\"\"\""
   ]
  },
  {
   "cell_type": "code",
   "execution_count": 126,
   "metadata": {},
   "outputs": [
    {
     "data": {
      "text/plain": [
       "0"
      ]
     },
     "execution_count": 126,
     "metadata": {},
     "output_type": "execute_result"
    }
   ],
   "source": [
    "#使用mission10 資料庫\n",
    "cursor.execute(\"use mission10\")"
   ]
  },
  {
   "cell_type": "code",
   "execution_count": 127,
   "metadata": {},
   "outputs": [
    {
     "data": {
      "text/plain": [
       "0"
      ]
     },
     "execution_count": 127,
     "metadata": {},
     "output_type": "execute_result"
    }
   ],
   "source": [
    "\n",
    "#創建資料表取名為Class\n",
    "sql = \"\"\"CREATE TABLE Class (\n",
    "        ID          int         NOT NULL AUTO_INCREMENT PRIMARY KEY,   #自動編號，由0開始以1累加，將ID欄位設成主鍵\n",
    "        Name        varchar(20) NOT NULL,                #不會超過10個字 = 不會超過 20Bytes\n",
    "        Telephone   varchar(20) NOT NULL,                #電話設定20字元\n",
    "        Age         int)\n",
    "\"\"\"\n",
    "\n",
    "cursor.execute(sql)"
   ]
  },
  {
   "cell_type": "code",
   "execution_count": 128,
   "metadata": {},
   "outputs": [
    {
     "data": {
      "text/plain": [
       "3"
      ]
     },
     "execution_count": 128,
     "metadata": {},
     "output_type": "execute_result"
    }
   ],
   "source": [
    "#在Class資料表插入資料\n",
    "\n",
    "sql = 'INSERT INTO Class values(%s,%s,%s,%s)'\n",
    "\n",
    "param= {(1,'Ian', '0987654321', 24), \n",
    "        (2,'Rex', '0912345678', 20), \n",
    "        (3,'Ash', '0988776655', 18)}\n",
    "        \n",
    "cursor.executemany(sql,param)"
   ]
  },
  {
   "cell_type": "code",
   "execution_count": 129,
   "metadata": {},
   "outputs": [
    {
     "data": {
      "text/plain": [
       "3"
      ]
     },
     "execution_count": 129,
     "metadata": {},
     "output_type": "execute_result"
    }
   ],
   "source": [
    "#提交語句到資料庫\n",
    "db.commit()\n",
    "#選select Class資料表資料\n",
    "cursor.execute('select * from Class')"
   ]
  },
  {
   "cell_type": "code",
   "execution_count": 130,
   "metadata": {},
   "outputs": [
    {
     "name": "stdout",
     "output_type": "stream",
     "text": [
      "(1, 'Ian', '0987654321', 24)\n",
      "(2, 'Rex', '0912345678', 20)\n",
      "(3, 'Ash', '0988776655', 18)\n"
     ]
    }
   ],
   "source": [
    "#返回多條紀錄(rows),如果没有结果,則返回 ()\n",
    "result = cursor.fetchall()\n",
    "for row in result:\n",
    "    print(row)"
   ]
  },
  {
   "cell_type": "code",
   "execution_count": 131,
   "metadata": {},
   "outputs": [],
   "source": [
    "#結束連線\n",
    "db.close()"
   ]
  },
  {
   "cell_type": "code",
   "execution_count": null,
   "metadata": {},
   "outputs": [],
   "source": []
  }
 ],
 "metadata": {
  "kernelspec": {
   "display_name": "Python 3",
   "language": "python",
   "name": "python3"
  },
  "language_info": {
   "codemirror_mode": {
    "name": "ipython",
    "version": 3
   },
   "file_extension": ".py",
   "mimetype": "text/x-python",
   "name": "python",
   "nbconvert_exporter": "python",
   "pygments_lexer": "ipython3",
   "version": "3.7.1"
  }
 },
 "nbformat": 4,
 "nbformat_minor": 2
}
